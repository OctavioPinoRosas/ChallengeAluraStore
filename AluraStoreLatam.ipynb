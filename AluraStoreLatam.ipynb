{
  "cells": [
    {
      "cell_type": "markdown",
      "metadata": {
        "id": "RhEdWd9YUR6H"
      },
      "source": [
        "### Importación de datos\n",
        "\n"
      ]
    },
    {
      "cell_type": "code",
      "execution_count": 22,
      "metadata": {
        "colab": {
          "base_uri": "https://localhost:8080/",
          "height": 206
        },
        "id": "T3EvaeQ_INIL",
        "outputId": "e9c5efe1-82a3-43ab-e8d7-6d01e4fa3514"
      },
      "outputs": [
        {
          "data": {
            "text/html": [
              "<div>\n",
              "<style scoped>\n",
              "    .dataframe tbody tr th:only-of-type {\n",
              "        vertical-align: middle;\n",
              "    }\n",
              "\n",
              "    .dataframe tbody tr th {\n",
              "        vertical-align: top;\n",
              "    }\n",
              "\n",
              "    .dataframe thead th {\n",
              "        text-align: right;\n",
              "    }\n",
              "</style>\n",
              "<table border=\"1\" class=\"dataframe\">\n",
              "  <thead>\n",
              "    <tr style=\"text-align: right;\">\n",
              "      <th></th>\n",
              "      <th>Producto</th>\n",
              "      <th>Categoría del Producto</th>\n",
              "      <th>Precio</th>\n",
              "      <th>Costo de envío</th>\n",
              "      <th>Fecha de Compra</th>\n",
              "      <th>Vendedor</th>\n",
              "      <th>Lugar de Compra</th>\n",
              "      <th>Calificación</th>\n",
              "      <th>Método de pago</th>\n",
              "      <th>Cantidad de cuotas</th>\n",
              "      <th>lat</th>\n",
              "      <th>lon</th>\n",
              "    </tr>\n",
              "  </thead>\n",
              "  <tbody>\n",
              "    <tr>\n",
              "      <th>0</th>\n",
              "      <td>Asistente virtual</td>\n",
              "      <td>Electrónicos</td>\n",
              "      <td>164,300.00</td>\n",
              "      <td>6,900.00</td>\n",
              "      <td>16/01/2021</td>\n",
              "      <td>Pedro Gomez</td>\n",
              "      <td>Bogotá</td>\n",
              "      <td>4</td>\n",
              "      <td>Tarjeta de crédito</td>\n",
              "      <td>8</td>\n",
              "      <td>4.61</td>\n",
              "      <td>-74.08</td>\n",
              "    </tr>\n",
              "    <tr>\n",
              "      <th>1</th>\n",
              "      <td>Mesa de comedor</td>\n",
              "      <td>Muebles</td>\n",
              "      <td>192,300.00</td>\n",
              "      <td>8,400.00</td>\n",
              "      <td>18/05/2022</td>\n",
              "      <td>Beatriz Morales</td>\n",
              "      <td>Medellín</td>\n",
              "      <td>1</td>\n",
              "      <td>Tarjeta de crédito</td>\n",
              "      <td>4</td>\n",
              "      <td>6.25</td>\n",
              "      <td>-75.56</td>\n",
              "    </tr>\n",
              "    <tr>\n",
              "      <th>2</th>\n",
              "      <td>Juego de mesa</td>\n",
              "      <td>Juguetes</td>\n",
              "      <td>209,600.00</td>\n",
              "      <td>15,900.00</td>\n",
              "      <td>15/03/2021</td>\n",
              "      <td>Juan Fernandez</td>\n",
              "      <td>Cartagena</td>\n",
              "      <td>1</td>\n",
              "      <td>Tarjeta de crédito</td>\n",
              "      <td>1</td>\n",
              "      <td>10.40</td>\n",
              "      <td>-75.51</td>\n",
              "    </tr>\n",
              "    <tr>\n",
              "      <th>3</th>\n",
              "      <td>Microondas</td>\n",
              "      <td>Electrodomésticos</td>\n",
              "      <td>757,500.00</td>\n",
              "      <td>41,000.00</td>\n",
              "      <td>03/05/2022</td>\n",
              "      <td>Juan Fernandez</td>\n",
              "      <td>Cali</td>\n",
              "      <td>4</td>\n",
              "      <td>Nequi</td>\n",
              "      <td>1</td>\n",
              "      <td>3.44</td>\n",
              "      <td>-76.52</td>\n",
              "    </tr>\n",
              "    <tr>\n",
              "      <th>4</th>\n",
              "      <td>Silla de oficina</td>\n",
              "      <td>Muebles</td>\n",
              "      <td>335,200.00</td>\n",
              "      <td>20,200.00</td>\n",
              "      <td>07/11/2020</td>\n",
              "      <td>Maria Alfonso</td>\n",
              "      <td>Medellín</td>\n",
              "      <td>5</td>\n",
              "      <td>Nequi</td>\n",
              "      <td>1</td>\n",
              "      <td>6.25</td>\n",
              "      <td>-75.56</td>\n",
              "    </tr>\n",
              "  </tbody>\n",
              "</table>\n",
              "</div>"
            ],
            "text/plain": [
              "            Producto Categoría del Producto     Precio  Costo de envío  \\\n",
              "0  Asistente virtual           Electrónicos 164,300.00        6,900.00   \n",
              "1    Mesa de comedor                Muebles 192,300.00        8,400.00   \n",
              "2      Juego de mesa               Juguetes 209,600.00       15,900.00   \n",
              "3         Microondas      Electrodomésticos 757,500.00       41,000.00   \n",
              "4   Silla de oficina                Muebles 335,200.00       20,200.00   \n",
              "\n",
              "  Fecha de Compra         Vendedor Lugar de Compra  Calificación  \\\n",
              "0      16/01/2021      Pedro Gomez          Bogotá             4   \n",
              "1      18/05/2022  Beatriz Morales        Medellín             1   \n",
              "2      15/03/2021   Juan Fernandez       Cartagena             1   \n",
              "3      03/05/2022   Juan Fernandez            Cali             4   \n",
              "4      07/11/2020    Maria Alfonso        Medellín             5   \n",
              "\n",
              "       Método de pago  Cantidad de cuotas   lat    lon  \n",
              "0  Tarjeta de crédito                   8  4.61 -74.08  \n",
              "1  Tarjeta de crédito                   4  6.25 -75.56  \n",
              "2  Tarjeta de crédito                   1 10.40 -75.51  \n",
              "3               Nequi                   1  3.44 -76.52  \n",
              "4               Nequi                   1  6.25 -75.56  "
            ]
          },
          "execution_count": 22,
          "metadata": {},
          "output_type": "execute_result"
        }
      ],
      "source": [
        "import pandas as pd\n",
        "\n",
        "url1 = r\"base-de-datos-challenge1-latam\\tienda_1.csv\"\n",
        "url2 = r\"base-de-datos-challenge1-latam\\tienda_2.csv\"\n",
        "url3 = r\"base-de-datos-challenge1-latam\\tienda_3.csv\"\n",
        "url4 = r\"base-de-datos-challenge1-latam\\tienda_4.csv\"\n",
        "\n",
        "tienda1 = pd.read_csv(url1)\n",
        "tienda2 = pd.read_csv(url2)\n",
        "tienda3 = pd.read_csv(url3)\n",
        "tienda4 = pd.read_csv(url4)\n",
        "\n",
        "tienda1.head()"
      ]
    },
    {
      "cell_type": "markdown",
      "metadata": {
        "id": "X62IW3KFUIYm"
      },
      "source": [
        "#1. Análisis de facturación\n",
        "\n"
      ]
    },
    {
      "cell_type": "code",
      "execution_count": 23,
      "metadata": {
        "id": "xykobSftV64I"
      },
      "outputs": [
        {
          "data": {
            "text/html": [
              "<div>\n",
              "<style scoped>\n",
              "    .dataframe tbody tr th:only-of-type {\n",
              "        vertical-align: middle;\n",
              "    }\n",
              "\n",
              "    .dataframe tbody tr th {\n",
              "        vertical-align: top;\n",
              "    }\n",
              "\n",
              "    .dataframe thead th {\n",
              "        text-align: right;\n",
              "    }\n",
              "</style>\n",
              "<table border=\"1\" class=\"dataframe\">\n",
              "  <thead>\n",
              "    <tr style=\"text-align: right;\">\n",
              "      <th></th>\n",
              "      <th>Tienda</th>\n",
              "      <th>Ingreso total</th>\n",
              "    </tr>\n",
              "  </thead>\n",
              "  <tbody>\n",
              "    <tr>\n",
              "      <th>0</th>\n",
              "      <td>Tienda 1</td>\n",
              "      <td>1,150,880,400</td>\n",
              "    </tr>\n",
              "    <tr>\n",
              "      <th>1</th>\n",
              "      <td>Tienda 2</td>\n",
              "      <td>1,116,343,500</td>\n",
              "    </tr>\n",
              "    <tr>\n",
              "      <th>2</th>\n",
              "      <td>Tienda 3</td>\n",
              "      <td>1,098,019,600</td>\n",
              "    </tr>\n",
              "    <tr>\n",
              "      <th>3</th>\n",
              "      <td>Tienda 4</td>\n",
              "      <td>1,038,375,700</td>\n",
              "    </tr>\n",
              "  </tbody>\n",
              "</table>\n",
              "</div>"
            ],
            "text/plain": [
              "     Tienda  Ingreso total\n",
              "0  Tienda 1  1,150,880,400\n",
              "1  Tienda 2  1,116,343,500\n",
              "2  Tienda 3  1,098,019,600\n",
              "3  Tienda 4  1,038,375,700"
            ]
          },
          "execution_count": 23,
          "metadata": {},
          "output_type": "execute_result"
        }
      ],
      "source": [
        "ingresoTienda1 = tienda1[\"Precio\"].sum()\n",
        "ingresoTienda2 = tienda2[\"Precio\"].sum()\n",
        "ingresoTienda3 = tienda3[\"Precio\"].sum()\n",
        "ingresoTienda4 = tienda4[\"Precio\"].sum()\n",
        "ingresoTiendas = pd.DataFrame({\n",
        "    \"Tienda\": [\"Tienda 1\", \"Tienda 2\", \"Tienda 3\", \"Tienda 4\"],\n",
        "    \"Ingreso total\": [ingresoTienda1, ingresoTienda2, ingresoTienda3, ingresoTienda4]\n",
        "})\n",
        "pd.set_option('display.float_format', '{:,.0f}'.format)\n",
        "ingresoTiendas.head()"
      ]
    },
    {
      "cell_type": "code",
      "execution_count": 24,
      "metadata": {},
      "outputs": [
        {
          "data": {
            "image/png": "[encoded data removed]",
            "text/plain": [
              "<Figure size 640x480 with 1 Axes>"
            ]
          },
          "metadata": {},
          "output_type": "display_data"
        }
      ],
      "source": [
        "import matplotlib.pyplot as plt\n",
        "\n",
        "colores = ['purple', 'blue', 'green', 'red'] # Colores parea cada barra\n",
        "plt.bar(ingresoTiendas[\"Tienda\"],ingresoTiendas[\"Ingreso total\"], color = colores) # Creación de la grafica de barras y sele da un color distinto a cada barra\n",
        "plt.xlabel('Tiendas')  # Etiquetamos el eje x\n",
        "plt.ylabel('Ingresos totales')  # Etiquetamos el eje y\n",
        "plt.title('Ingreso total por tienda')  # Añadimos un título al gráfico\n",
        "plt.show()"
      ]
    },
    {
      "cell_type": "markdown",
      "metadata": {
        "id": "2V_vcAPzWZmR"
      },
      "source": [
        "# 2. Ventas por categoría"
      ]
    },
    {
      "cell_type": "code",
      "execution_count": 25,
      "metadata": {
        "id": "A34YupIuYhfF"
      },
      "outputs": [
        {
          "data": {
            "text/html": [
              "<div>\n",
              "<style scoped>\n",
              "    .dataframe tbody tr th:only-of-type {\n",
              "        vertical-align: middle;\n",
              "    }\n",
              "\n",
              "    .dataframe tbody tr th {\n",
              "        vertical-align: top;\n",
              "    }\n",
              "\n",
              "    .dataframe thead th {\n",
              "        text-align: right;\n",
              "    }\n",
              "</style>\n",
              "<table border=\"1\" class=\"dataframe\">\n",
              "  <thead>\n",
              "    <tr style=\"text-align: right;\">\n",
              "      <th></th>\n",
              "      <th>Tienda 1</th>\n",
              "      <th>Tienda 2</th>\n",
              "      <th>Tienda 3</th>\n",
              "      <th>Tienda 4</th>\n",
              "      <th>Total</th>\n",
              "    </tr>\n",
              "    <tr>\n",
              "      <th>Categoría del Producto</th>\n",
              "      <th></th>\n",
              "      <th></th>\n",
              "      <th></th>\n",
              "      <th></th>\n",
              "      <th></th>\n",
              "    </tr>\n",
              "  </thead>\n",
              "  <tbody>\n",
              "    <tr>\n",
              "      <th>Muebles</th>\n",
              "      <td>465</td>\n",
              "      <td>442</td>\n",
              "      <td>499</td>\n",
              "      <td>480</td>\n",
              "      <td>1886</td>\n",
              "    </tr>\n",
              "    <tr>\n",
              "      <th>Electrónicos</th>\n",
              "      <td>448</td>\n",
              "      <td>422</td>\n",
              "      <td>451</td>\n",
              "      <td>451</td>\n",
              "      <td>1772</td>\n",
              "    </tr>\n",
              "    <tr>\n",
              "      <th>Juguetes</th>\n",
              "      <td>324</td>\n",
              "      <td>313</td>\n",
              "      <td>315</td>\n",
              "      <td>338</td>\n",
              "      <td>1290</td>\n",
              "    </tr>\n",
              "  </tbody>\n",
              "</table>\n",
              "</div>"
            ],
            "text/plain": [
              "                        Tienda 1  Tienda 2  Tienda 3  Tienda 4  Total\n",
              "Categoría del Producto                                               \n",
              "Muebles                      465       442       499       480   1886\n",
              "Electrónicos                 448       422       451       451   1772\n",
              "Juguetes                     324       313       315       338   1290"
            ]
          },
          "execution_count": 25,
          "metadata": {},
          "output_type": "execute_result"
        }
      ],
      "source": [
        "conteoCategoriaT1 = tienda1['Categoría del Producto'].value_counts()\n",
        "conteoCategoriaT2 = tienda2['Categoría del Producto'].value_counts()\n",
        "conteoCategoriaT3 = tienda3['Categoría del Producto'].value_counts()\n",
        "conteoCategoriaT4 = tienda4['Categoría del Producto'].value_counts()\n",
        "conteosCategorias = pd.DataFrame({\n",
        "    'Tienda 1': conteoCategoriaT1,\n",
        "    'Tienda 2': conteoCategoriaT2,\n",
        "    'Tienda 3': conteoCategoriaT3,\n",
        "    'Tienda 4': conteoCategoriaT4\n",
        "})\n",
        "conteosCategorias = conteosCategorias.fillna(0)\n",
        "# Sumar los conteos de todas las tiendas\n",
        "conteosCategorias['Total'] = conteosCategorias.sum(axis=1)\n",
        "\n",
        "# Ordenar por 'Total' de mayor a menor\n",
        "conteosOrdenado = conteosCategorias.sort_values(by='Total', ascending=False)\n",
        "\n",
        "# Seleccionar las 3 categorías con más cantidad\n",
        "top3 = conteosOrdenado.head(3)\n",
        "\n",
        "top3.head()"
      ]
    },
    {
      "cell_type": "code",
      "execution_count": 26,
      "metadata": {
        "id": "yZR6cOjXYSk1"
      },
      "outputs": [
        {
          "data": {
            "image/png": "[encoded data removed]",
            "text/plain": [
              "<Figure size 1200x600 with 1 Axes>"
            ]
          },
          "metadata": {},
          "output_type": "display_data"
        }
      ],
      "source": [
        "import matplotlib.pyplot as plt\n",
        "import numpy as np\n",
        "\n",
        "categorias = top3.index.tolist()  # ['Muebles', 'Electrónicos', 'Juguetes']\n",
        "tienda1 = top3['Tienda 1'].tolist()\n",
        "tienda2 = top3['Tienda 2'].tolist()\n",
        "tienda3 = top3['Tienda 3'].tolist()\n",
        "tienda4 = top3['Tienda 4'].tolist()\n",
        "# Número de categorías\n",
        "n_categorias = len(categorias)\n",
        "indice = np.arange(n_categorias)  # posiciones: 0, 1, 2\n",
        "ancho = 0.2  # Ancho de cada barra\n",
        "\n",
        "# Crear la gráfica\n",
        "plt.figure(figsize=(12,6))\n",
        "\n",
        "# Dibujar una barra para cada tienda\n",
        "plt.bar(indice - 1.5*ancho, tienda1, width=ancho, label='Tienda 1')\n",
        "plt.bar(indice - 0.5*ancho, tienda2, width=ancho, label='Tienda 2')\n",
        "plt.bar(indice + 0.5*ancho, tienda3, width=ancho, label='Tienda 3')\n",
        "plt.bar(indice + 1.5*ancho, tienda4, width=ancho, label='Tienda 4')\n",
        "\n",
        "# Configurar etiquetas\n",
        "plt.xlabel('Categoría', fontsize=14)\n",
        "plt.ylabel('Cantidad vendida', fontsize=14)\n",
        "plt.title('Top 3 categorías más vendidas por tienda', fontsize=16)\n",
        "plt.xticks(indice, categorias)  # Poner las categorías en el eje X\n",
        "plt.legend(title='Tienda')\n",
        "\n",
        "# Mostrar valores arriba de cada barra\n",
        "for i in range(n_categorias):\n",
        "    plt.text(indice[i] - 1.5*ancho, tienda1[i] + 10, str(int(tienda1[i])), ha='center', fontsize=9)\n",
        "    plt.text(indice[i] - 0.5*ancho, tienda2[i] + 10, str(int(tienda2[i])), ha='center', fontsize=9)\n",
        "    plt.text(indice[i] + 0.5*ancho, tienda3[i] + 10, str(int(tienda3[i])), ha='center', fontsize=9)\n",
        "    plt.text(indice[i] + 1.5*ancho, tienda4[i] + 10, str(int(tienda4[i])), ha='center', fontsize=9)\n",
        "\n",
        "# Ajustar diseño\n",
        "plt.tight_layout()\n",
        "plt.show()"
      ]
    },
    {
      "cell_type": "markdown",
      "metadata": {
        "id": "Rq6tU_xSY3jk"
      },
      "source": [
        "# 3. Calificación promedio de la tienda\n"
      ]
    },
    {
      "cell_type": "code",
      "execution_count": 27,
      "metadata": {
        "id": "bh3jjjJwY5MU"
      },
      "outputs": [
        {
          "name": "stdout",
          "output_type": "stream",
          "text": [
            "     Tienda  Calificacion Promedio\n",
            "0  Tienda 1                   3.98\n",
            "1  Tienda 2                   4.04\n",
            "2  Tienda 3                   4.05\n",
            "3  Tienda 4                   4.00\n"
          ]
        }
      ],
      "source": [
        "# Añade los datos CSV con un formato DataFrame\n",
        "tienda1 = pd.read_csv(url1)\n",
        "tienda2 = pd.read_csv(url2)\n",
        "tienda3 = pd.read_csv(url3)\n",
        "tienda4 = pd.read_csv(url4)\n",
        "# Calcula el promedio de calificación por tienda\n",
        "calificacionTienda1 = tienda1[\"Calificación\"].mean()\n",
        "calificacionTienda2 = tienda2[\"Calificación\"].mean()\n",
        "calificacionTienda3 = tienda3[\"Calificación\"].mean()\n",
        "calificacionTienda4 = tienda4[\"Calificación\"].mean()\n",
        "\n",
        "# Crear un DataFrame con las calificaciones promedio\n",
        "calificacionTiendas = pd.DataFrame({\n",
        "    \"Tienda\": [\"Tienda 1\", \"Tienda 2\", \"Tienda 3\", \"Tienda 4\"],\n",
        "    \"Calificacion Promedio\": [calificacionTienda1, calificacionTienda2, calificacionTienda3, calificacionTienda4]\n",
        "})\n",
        "\n",
        "# Establecer el formato de visualización para los decimales\n",
        "pd.set_option('display.float_format', '{:,.2f}'.format)\n",
        "\n",
        "# Mostrar el DataFrame con las calificaciones promedio\n",
        "print(calificacionTiendas)"
      ]
    },
    {
      "cell_type": "code",
      "execution_count": 28,
      "metadata": {
        "id": "I0KkjPoTY88F"
      },
      "outputs": [
        {
          "data": {
            "image/png": "[encoded data removed]",
            "text/plain": [
              "<Figure size 640x480 with 1 Axes>"
            ]
          },
          "metadata": {},
          "output_type": "display_data"
        }
      ],
      "source": [
        "import matplotlib.pyplot as plt\n",
        "\n",
        "colores = ['purple', 'blue', 'green', 'red'] # Colores parea cada barra\n",
        "plt.bar(calificacionTiendas[\"Tienda\"],calificacionTiendas[\"Calificacion Promedio\"], color = colores) # Creación de la grafica de barras y sele da un color distinto a cada barra\n",
        "plt.xlabel('Tiendas')  # Etiquetamos el eje x\n",
        "plt.ylabel('Calificación')  # Etiquetamos el eje y\n",
        "plt.title('Calificación promedio por tienda')  # Añadimos un título al gráfico\n",
        "plt.show()\n"
      ]
    },
    {
      "cell_type": "markdown",
      "metadata": {
        "id": "DmNp1KPBZCm-"
      },
      "source": [
        "# 4. Productos más y menos vendidos"
      ]
    },
    {
      "cell_type": "code",
      "execution_count": null,
      "metadata": {
        "id": "qoyjqijQZHfF"
      },
      "outputs": [],
      "source": []
    },
    {
      "cell_type": "code",
      "execution_count": null,
      "metadata": {
        "id": "0Sw3sd4IZIGW"
      },
      "outputs": [],
      "source": []
    },
    {
      "cell_type": "markdown",
      "metadata": {
        "id": "Fl0cGi3bZKqU"
      },
      "source": [
        "# 5. Envío promedio por tienda"
      ]
    },
    {
      "cell_type": "code",
      "execution_count": null,
      "metadata": {
        "id": "S2JeaCykZNy9"
      },
      "outputs": [],
      "source": [
        "\n"
      ]
    },
    {
      "cell_type": "code",
      "execution_count": null,
      "metadata": {
        "id": "0tSdCie9ZQlt"
      },
      "outputs": [],
      "source": []
    }
  ],
  "metadata": {
    "colab": {
      "provenance": []
    },
    "kernelspec": {
      "display_name": "Python 3",
      "name": "python3"
    },
    "language_info": {
      "codemirror_mode": {
        "name": "ipython",
        "version": 3
      },
      "file_extension": ".py",
      "mimetype": "text/x-python",
      "name": "python",
      "nbconvert_exporter": "python",
      "pygments_lexer": "ipython3",
      "version": "3.13.1"
    }
  },
  "nbformat": 4,
  "nbformat_minor": 0
}
